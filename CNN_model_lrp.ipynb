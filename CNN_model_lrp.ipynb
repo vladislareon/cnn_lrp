{
  "cells": [
    {
      "cell_type": "code",
      "execution_count": 1,
      "metadata": {
        "id": "luW5GK6KmvwN"
      },
      "outputs": [],
      "source": [
        "import pandas as pd\n",
        "import numpy as np\n",
        "import scipy\n",
        "from tqdm import trange\n",
        "from tqdm.notebook import tqdm\n",
        "import sys\n",
        "import os\n",
        "import seaborn as sns\n",
        "from matplotlib import pyplot as plt\n",
        "from joblib import Parallel, delayed, dump, load\n",
        "from matplotlib import pyplot as plt\n",
        "\n",
        "#from Sparse_vector.Sparse_vector import SparseVector\n",
        "#rom sparse_vector import SparseVector as sparse_vector\n",
        "import sparse_vector"
      ]
    },
    {
      "cell_type": "code",
      "source": [
        "!git clone https://github.com/Nazar1997/DeepZ_data_creation"
      ],
      "metadata": {
        "colab": {
          "base_uri": "https://localhost:8080/"
        },
        "id": "i1L888jScv6u",
        "outputId": "ba7e1242-c00a-4be5-97b0-08452967f60b"
      },
      "execution_count": 2,
      "outputs": [
        {
          "output_type": "stream",
          "name": "stdout",
          "text": [
            "Cloning into 'DeepZ_data_creation'...\n",
            "remote: Enumerating objects: 1363, done.\u001b[K\n",
            "remote: Counting objects: 100% (3/3), done.\u001b[K\n",
            "remote: Compressing objects: 100% (3/3), done.\u001b[K\n",
            "remote: Total 1363 (delta 0), reused 0 (delta 0), pack-reused 1360\u001b[K\n",
            "Receiving objects: 100% (1363/1363), 1.34 GiB | 25.66 MiB/s, done.\n",
            "Resolving deltas: 100% (34/34), done.\n",
            "Checking out files: 100% (1140/1140), done.\n"
          ]
        }
      ]
    },
    {
      "cell_type": "markdown",
      "metadata": {
        "id": "MKsG6F6vmwyv"
      },
      "source": []
    },
    {
      "cell_type": "code",
      "execution_count": 2,
      "metadata": {
        "id": "-v7oIyTCmvwQ"
      },
      "outputs": [],
      "source": [
        "chroms = [f'chr{i}' for i in list(range(1, 23)) + ['X', 'Y','M']]\n",
        "all_features = [i[:-4] for i in os.listdir('DeepZ_data_creation/data/hg19_features/sparse/') if i.endswith('.pkl')]"
      ]
    },
    {
      "cell_type": "code",
      "execution_count": 3,
      "metadata": {
        "id": "XRd3-LjymvwS"
      },
      "outputs": [],
      "source": [
        "groups = ['DNase-seq', 'Histone', 'RNA polymerase', 'TFs and others']\n",
        "feature_names = [i for i in all_features if (i.split('_')[0] in groups)]\n",
        "\n",
        "def chrom_reader(chrom):\n",
        "    files = sorted([i for i in os.listdir(f'DeepZ_data_creation/data/hg19_dna/') if f\"{chrom}_\" in i])\n",
        "    return ''.join([load(f\"DeepZ_data_creation/data/hg19_dna/{file}\") for file in files])"
      ]
    },
    {
      "cell_type": "code",
      "execution_count": 4,
      "metadata": {
        "colab": {
          "base_uri": "https://localhost:8080/",
          "height": 116,
          "referenced_widgets": [
            "430d9fac8a03456dbb4bfb418cf9c444",
            "1d8d78db524342ca917d53454e225e35",
            "11f0244f85d8402a9f72ce051a298dd8",
            "86100d3540894aadb7d3c344db58fdba",
            "8345f45a5a804187bb6fdfe1951e4b47",
            "1a55799f0d314c528be0366990a7a40e",
            "8ad74572ffcb42b5b42df7c372e2d4e9",
            "21c0fe31cdad49f99f6bab8816587a5e",
            "d7d993803cd24aaf8fd4ff1846d06eae",
            "f84621ae678f4cd1a2549e5224cc75be",
            "bc7006057af64bf5be976fbebbdf0e97",
            "555633646bc44332b6deb7ba278772b3",
            "be58e301ce23409cb3c5a657954bc019",
            "2e6c095445344e469e4fcbc44ca749be",
            "7f492de0ed924721bbd1714ab530e2f1",
            "48349b567c2847259156e4b7058d5744",
            "a642207a30b745859f6b4ac021074a68",
            "5657618f020a47eaa9ba7d29f738c6fa",
            "780ccb1dd02a4c8a907ac41ab3e52d25",
            "565e519e51514ff4983d256ec1ac76d8",
            "4a4a0fde3c244f5fb6ef7b02e635ad65",
            "cc76a288a741414594b2c0515fff397a"
          ]
        },
        "id": "dsqpmOL7mvwT",
        "outputId": "ff28dac9-74bb-4ea3-d0fc-e34508796aa6"
      },
      "outputs": [
        {
          "output_type": "display_data",
          "data": {
            "text/plain": [
              "  0%|          | 0/25 [00:00<?, ?it/s]"
            ],
            "application/vnd.jupyter.widget-view+json": {
              "version_major": 2,
              "version_minor": 0,
              "model_id": "430d9fac8a03456dbb4bfb418cf9c444"
            }
          },
          "metadata": {}
        },
        {
          "output_type": "display_data",
          "data": {
            "text/plain": [
              "  0%|          | 0/1054 [00:00<?, ?it/s]"
            ],
            "application/vnd.jupyter.widget-view+json": {
              "version_major": 2,
              "version_minor": 0,
              "model_id": "555633646bc44332b6deb7ba278772b3"
            }
          },
          "metadata": {}
        },
        {
          "output_type": "stream",
          "name": "stdout",
          "text": [
            "CPU times: user 16 s, sys: 4.93 s, total: 20.9 s\n",
            "Wall time: 36.2 s\n"
          ]
        }
      ],
      "source": [
        "%%time\n",
        "# load all the data\n",
        "DNA = {chrom:chrom_reader(chrom) for chrom in tqdm(chroms)}\n",
        "ZDNA = load('DeepZ_data_creation/data/hg19_zdna/sparse/ZDNA.pkl')\n",
        "ZHUNT = load('DeepZ_data_creation/data/hg19_zdna/sparse/ZHUNT.pkl')\n",
        "\n",
        "DNA_features = {feture: load(f'DeepZ_data_creation/data/hg19_features/sparse/{feture}.pkl')\n",
        "                for feture in tqdm(feature_names)}"
      ]
    },
    {
      "cell_type": "markdown",
      "metadata": {
        "id": "fD0NOlm2mvwU"
      },
      "source": [
        "# All DL code"
      ]
    },
    {
      "cell_type": "code",
      "execution_count": 5,
      "metadata": {
        "id": "uu0qegoymvwV"
      },
      "outputs": [],
      "source": [
        "import torch\n",
        "from torch.utils import data\n",
        "from sklearn.preprocessing import LabelBinarizer\n",
        "from sklearn.model_selection import train_test_split, StratifiedKFold"
      ]
    },
    {
      "cell_type": "code",
      "execution_count": 6,
      "metadata": {
        "id": "wth1BydimvwY"
      },
      "outputs": [],
      "source": [
        "class Dataset(data.Dataset):\n",
        "    def __init__(self, chroms, features, \n",
        "                 dna_source, features_source, \n",
        "                 labels_source, intervals):\n",
        "        self.chroms = chroms\n",
        "        self.features = features\n",
        "        self.dna_source = dna_source\n",
        "        self.features_source = features_source\n",
        "        self.labels_source = labels_source\n",
        "        self.intervals = intervals\n",
        "        self.le = LabelBinarizer().fit(np.array([[\"A\"], [\"C\"], [\"T\"], [\"G\"]]))\n",
        "        \n",
        "    def __len__(self):\n",
        "        return len(self.intervals)\n",
        "    \n",
        "    def __getitem__(self, index):\n",
        "        interval = self.intervals[index]\n",
        "        chrom = interval[0]\n",
        "        begin = int(interval[1])\n",
        "        end = int(interval[2])\n",
        "        dna_OHE = self.le.transform(list(self.dna_source[chrom][begin:end].upper()))\n",
        "        \n",
        "        feature_matr = []\n",
        "        for feature in self.features:\n",
        "            source = self.features_source[feature]\n",
        "            feature_matr.append(source[chrom][begin:end])\n",
        "        if len(feature_matr) > 0:\n",
        "            X = np.hstack((dna_OHE, np.array(feature_matr).T/1000)).astype(np.float32)\n",
        "        else:\n",
        "            X = dna_OHE.astype(np.float32)\n",
        "        y = self.labels_source[interval[0]][interval[1]: interval[2]]\n",
        "        \n",
        "        return (X, y)\n",
        "        \n",
        "        "
      ]
    },
    {
      "cell_type": "code",
      "execution_count": 7,
      "metadata": {
        "colab": {
          "base_uri": "https://localhost:8080/"
        },
        "id": "yHieOfGBmvwa",
        "outputId": "d7d29604-8b07-4523-e3a3-5d6bf4079318"
      },
      "outputs": [
        {
          "output_type": "stream",
          "name": "stderr",
          "text": [
            "100%|██████████| 49850/49850 [00:01<00:00, 26112.60it/s]\n",
            "100%|██████████| 48639/48639 [00:01<00:00, 25085.58it/s]\n",
            "100%|██████████| 39604/39604 [00:01<00:00, 25858.48it/s]\n",
            "100%|██████████| 38230/38230 [00:01<00:00, 24773.33it/s]\n",
            "100%|██████████| 36183/36183 [00:01<00:00, 27057.33it/s]\n",
            "100%|██████████| 34223/34223 [00:01<00:00, 24235.55it/s]\n",
            "100%|██████████| 31827/31827 [00:01<00:00, 26509.65it/s]\n",
            "100%|██████████| 29272/29272 [00:01<00:00, 26805.40it/s]\n",
            "100%|██████████| 28242/28242 [00:01<00:00, 26236.14it/s]\n",
            "100%|██████████| 27106/27106 [00:01<00:00, 23802.39it/s]\n",
            "100%|██████████| 27001/27001 [00:01<00:00, 26876.07it/s]\n",
            "100%|██████████| 26770/26770 [00:01<00:00, 26122.34it/s]\n",
            "100%|██████████| 23033/23033 [00:00<00:00, 26281.26it/s]\n",
            "100%|██████████| 21469/21469 [00:00<00:00, 26373.44it/s]\n",
            "100%|██████████| 20506/20506 [00:00<00:00, 26544.65it/s]\n",
            "100%|██████████| 18070/18070 [00:00<00:00, 27017.07it/s]\n",
            "100%|██████████| 16239/16239 [00:00<00:00, 21213.66it/s]\n",
            "100%|██████████| 15615/15615 [00:00<00:00, 26700.72it/s]\n",
            "100%|██████████| 11825/11825 [00:00<00:00, 25643.49it/s]\n",
            "100%|██████████| 12605/12605 [00:00<00:00, 27493.69it/s]\n",
            "100%|██████████| 9625/9625 [00:00<00:00, 27177.25it/s]\n",
            "100%|██████████| 10260/10260 [00:00<00:00, 24649.54it/s]\n",
            "100%|██████████| 31054/31054 [00:01<00:00, 26643.56it/s]\n",
            "100%|██████████| 11874/11874 [00:00<00:00, 26728.88it/s]\n",
            "100%|██████████| 3/3 [00:00<00:00, 9118.05it/s]\n"
          ]
        }
      ],
      "source": [
        "width = 5000\n",
        "\n",
        "np.random.seed(10)\n",
        "\n",
        "ints_in = []\n",
        "ints_out = []\n",
        "\n",
        "for chrm in chroms:\n",
        "    for st in trange(0, ZDNA[chrm].shape - width, width):\n",
        "        interval = [st, min(st + width, ZDNA[chrm].shape)]\n",
        "        if ZDNA[chrm][interval[0]: interval[1]].any():\n",
        "            ints_in.append([chrm, interval[0], interval[1]])\n",
        "        else:\n",
        "            ints_out.append([chrm, interval[0], interval[1]])\n",
        "\n",
        "ints_in = np.array(ints_in)\n",
        "ints_out = np.array(ints_out)[np.random.choice(range(len(ints_out)), size=len(ints_in) * 3, replace=False)]"
      ]
    },
    {
      "cell_type": "code",
      "execution_count": 8,
      "metadata": {
        "id": "FRu9pfE6mvwb"
      },
      "outputs": [],
      "source": [
        "equalized = np.vstack((ints_in, ints_out))\n",
        "equalized = [[inter[0], int(inter[1]), int(inter[2])] for inter in equalized]"
      ]
    },
    {
      "cell_type": "code",
      "execution_count": 9,
      "metadata": {
        "colab": {
          "base_uri": "https://localhost:8080/"
        },
        "id": "gpQjQHtVmvwd",
        "outputId": "fb6ed868-c33f-45a0-81f3-6e071452fcb1"
      },
      "outputs": [
        {
          "output_type": "stream",
          "name": "stderr",
          "text": [
            "/usr/local/lib/python3.7/dist-packages/sklearn/model_selection/_split.py:680: UserWarning: The least populated class in y has only 1 members, which is less than n_splits=5.\n",
            "  UserWarning,\n"
          ]
        }
      ],
      "source": [
        "train_inds, test_inds = next(StratifiedKFold().split(equalized, [f\"{int(i < 400)}_{elem[0]}\"\n",
        "                                                                 for i, elem \n",
        "                                                                 in enumerate(equalized)]))\n",
        "\n",
        "train_intervals, test_intervals = [equalized[i] for i in train_inds], [equalized[i] for i in test_inds]\n",
        "\n",
        "train_dataset = Dataset(chroms, feature_names, \n",
        "                       DNA, DNA_features, \n",
        "                       ZDNA, train_intervals)\n",
        "\n",
        "test_dataset = Dataset(chroms, feature_names, \n",
        "                       DNA, DNA_features, \n",
        "                       ZDNA, test_intervals)"
      ]
    },
    {
      "cell_type": "code",
      "execution_count": 10,
      "metadata": {
        "id": "-NcFjPVNmvwe"
      },
      "outputs": [],
      "source": [
        "from torch import nn\n",
        "import torch.nn.functional as F\n",
        "from sklearn.metrics import roc_auc_score, f1_score\n",
        "from IPython.display import clear_output\n",
        "\n",
        "class DeepZ(nn.Module):\n",
        "    def __init__(self):\n",
        "        super().__init__()\n",
        "       # self.cnn1 = nn.Conv2d(1, 1, kernel_size=(10, 1058), stride=(2,1), padding=(1,0))\n",
        "        self.cnn2 =\tnn.Conv2d(5000, 5000, kernel_size=(5,1), stride=(2,1), padding=(1,0))\n",
        "        # self.seq = nn.Sequential(\n",
        "        #             nn.Dropout(0.5),\n",
        "        #             nn.Linear(2 * 500, 500),\n",
        "        #             nn.Sigmoid(),\n",
        "        #             nn.Dropout(0.5),\n",
        "        #             nn.Linear(500, 2)\n",
        "        # )\n",
        "        self.seq1 = nn.Sequential(\n",
        "            nn.ReLU(),\n",
        "            nn.MaxPool2d(kernel_size=(3,1), stride=1, padding=(1, 0), dilation=1, ceil_mode=False),\n",
        "            nn.Dropout(p=0.1))\n",
        "        self.seq2 = nn.Sequential(\n",
        "            nn.Linear(in_features=528, out_features=100, bias=True),\n",
        "            nn.ReLU(),\n",
        "            nn.Dropout(p=0.1),\n",
        "            nn.Linear(in_features=100, out_features=2, bias=True)\n",
        "        )\n",
        "    \n",
        "    def forward(self, x):\n",
        "        batch = x.shape[0]\n",
        "      #  x1 = x.reshape((batch, 1, 5000, 1058))\n",
        "       # x1 = self.cnn1(x1)\n",
        "       # print(x1.shape)\n",
        "        x1 = x.reshape((batch, 5000, 1058, 1))\n",
        "        x1 = self.cnn2(x1)\n",
        "        x1 = x1.reshape((batch, 5000, 528, 1))\n",
        "        x1 = self.seq1(x1)\n",
        "        x1 = x1.reshape((batch, 5000, 528))\n",
        "        x1 = self.seq2(x1)\n",
        "        x1 = F.log_softmax(x1, dim=-1)\n",
        "        return x1"
      ]
    },
    {
      "cell_type": "code",
      "execution_count": 11,
      "metadata": {
        "id": "ALqN3FTWmvwg"
      },
      "outputs": [],
      "source": [
        "import tqdm\n",
        "\n",
        "params = {'batch_size':24,\n",
        "          'num_workers':0,\n",
        "          'shuffle':True}\n",
        "\n",
        "loader_train = data.DataLoader(train_dataset, **params)\n",
        "loader_test = data.DataLoader(test_dataset, **params)\n",
        "    \n",
        "def loss_func(output, y_batch):\n",
        "    return torch.nn.NLLLoss()(torch.transpose(output, 2, 1), y_batch)\n",
        "\n",
        "\n",
        "\n",
        "def train_epoch(model, optimizer):\n",
        "    loss_log, acc_log, roc_auc_log, f1_log = [], [], [], []\n",
        "    model.train()\n",
        "    for _, (X_batch, y_batch) in enumerate(tqdm.tqdm(loader_train)):\n",
        "        X_batch, y_batch = X_batch.cuda(), y_batch.cuda().long()\n",
        "        optimizer.zero_grad()\n",
        "        output = model(X_batch)\n",
        "        pred = torch.argmax(output, dim=2)\n",
        "        y_pred = nn.Softmax(dim=1)(output)[:, :,1].detach().cpu().numpy().flatten()\n",
        "        if np.std(y_batch.cpu().numpy().flatten()) == 0:\n",
        "            roc_auc = 0\n",
        "        else:\n",
        "            roc_auc = roc_auc_score(y_batch.cpu().numpy().flatten(),\n",
        "                                    nn.Softmax(dim=1)(output)[:, :,1].detach().cpu().numpy().flatten())\n",
        "        f1_log.append(f1_score(y_batch.cpu().numpy().flatten(),\n",
        "                         pred.cpu().numpy().flatten()))\n",
        "\n",
        "        roc_auc_log.append(roc_auc)\n",
        "        acc = torch.mean((pred == y_batch).float())\n",
        "        acc_log.append(acc.cpu().numpy())\n",
        "        loss = loss_func(output, y_batch)\n",
        "        loss.backward()\n",
        "        optimizer.step()\n",
        "        loss = loss.item()\n",
        "        loss_log.append(loss)\n",
        "    return loss_log, acc_log, roc_auc_log, f1_log\n",
        "\n",
        "def test(model):\n",
        "    loss_log, acc_log, roc_auc_log, f1_log = [], [], [], []\n",
        "    model.eval()\n",
        "    means = []\n",
        "    for X_batch, y_batch in loader_test:\n",
        "        X_batch, y_batch = X_batch.cuda(), y_batch.cuda().long()\n",
        "        output = model(X_batch)\n",
        "        means.append(y_batch.sum().cpu() / (1.0 * y_batch.shape[0]))\n",
        "        pred = torch.argmax(output, dim=2)\n",
        "        if np.std(y_batch.cpu().numpy().flatten()) == 0:\n",
        "            roc_auc = 0\n",
        "        else:\n",
        "            roc_auc = roc_auc_score(y_batch.cpu().numpy().flatten(),\n",
        "                                    nn.Softmax(dim=1)(output)[:, :,1].detach().cpu().numpy().flatten())\n",
        "        f1_log.append(f1_score(y_batch.cpu().numpy().flatten(),\n",
        "                                  pred.cpu().numpy().flatten()))\n",
        "        roc_auc_log.append(roc_auc)\n",
        "        acc = torch.mean((pred == y_batch).float())\n",
        "        acc_log.append(acc.cpu().numpy())\n",
        "        loss = loss_func(output, y_batch)\n",
        "        loss = loss.item()\n",
        "        loss_log.append(loss)\n",
        "    return loss_log, acc_log, roc_auc_log, f1_log\n",
        "\n",
        "def plot_history(train_history, valid_history, title, BatchSize, epoch_to_show=20):\n",
        "    plt.figure(figsize=(epoch_to_show, 4))\n",
        "    plt.title(title)    \n",
        "    \n",
        "    epoch_num = len(valid_history)\n",
        "    train_history = np.array([None] * (BatchSize * epoch_to_show) + train_history)\n",
        "    valid_history = np.array([None] * epoch_to_show + valid_history)\n",
        "    \n",
        "    plt.plot(np.linspace(epoch_num-epoch_to_show+1, epoch_num+1, (epoch_to_show+1)*BatchSize), \n",
        "             train_history[-(epoch_to_show+1)*BatchSize:], c='red', label='train')\n",
        "    plt.plot(np.linspace(epoch_num-epoch_to_show+1, epoch_num+1, epoch_to_show+1),\n",
        "                valid_history[-epoch_to_show-1:], c='green', label='test')\n",
        "    \n",
        "    plt.ylim((0, 1))\n",
        "    plt.yticks(np.linspace(0, 1, 11))\n",
        "    plt.xticks(np.arange(epoch_num-epoch_to_show+1, epoch_num+2), \n",
        "              np.arange(epoch_num-epoch_to_show, epoch_num+1).astype(int))\n",
        "    plt.xlabel('train steps')\n",
        "    plt.legend(loc='best')\n",
        "    plt.grid()\n",
        "    plt.show()\n",
        "    \n",
        "def train(model, opt, n_epochs):\n",
        "    train_log, train_acc_log, train_auc_log, train_f1_log = [], [], [], []\n",
        "    val_log,   val_acc_log,   val_auc_log, val_f1_log   = [], [], [], []\n",
        "    \n",
        "    for epoch in range(n_epochs):\n",
        "        print(\"Epoch {} of {}\".format(epoch + 1, n_epochs))\n",
        "        train_loss, train_acc, train_auc, train_f1 = train_epoch(model, opt)\n",
        "        val_loss, val_acc, val_auc, val_f1 = test(model)\n",
        "        \n",
        "        BatchSize = len(train_loss)\n",
        "        \n",
        "        train_log.extend(train_loss)\n",
        "        train_acc_log.extend(train_acc)\n",
        "        train_auc_log.extend(train_auc)\n",
        "        train_f1_log.extend(train_f1)\n",
        "\n",
        "        val_log.append(np.mean(val_loss))\n",
        "        val_acc_log.append(np.mean(val_acc))\n",
        "        val_auc_log.append(np.mean(val_auc))\n",
        "        val_f1_log.append(np.mean(val_f1))\n",
        "#         raise BaseException\n",
        "        \n",
        "        if (epoch % 1) == 0:\n",
        "            clear_output()\n",
        "            plot_history(train_log,     val_log,     'Loss',     BatchSize)    \n",
        "            plot_history(train_acc_log, val_acc_log, 'Accuracy', BatchSize)\n",
        "            plot_history(train_auc_log, val_auc_log, 'Auc',      BatchSize)\n",
        "            plot_history(train_f1_log, val_f1_log,   'F1',       BatchSize)\n",
        "            print(\"Epoch {} AUC = {:.2%}\".format(epoch+1, 1 - val_auc_log[-1]))\n",
        "            print(\"Epoch {} accuracy = {:.2%}\".format(epoch+1, 1 - val_acc_log[-1]))\n",
        "            print(np.mean(train_acc))\n",
        "            \n",
        "            \n",
        "    print(\"Final AUC: {:.2}\".format(1 - val_auc_log[-1]))"
      ]
    },
    {
      "cell_type": "code",
      "execution_count": 12,
      "metadata": {
        "id": "ky4yyesEmvwj"
      },
      "outputs": [],
      "source": [
        "def count_parameters(model):\n",
        "    model_parameters = filter(lambda p: p.requires_grad, model.parameters())\n",
        "    return sum([np.prod(p.size()) for p in model_parameters])"
      ]
    },
    {
      "cell_type": "code",
      "execution_count": 13,
      "metadata": {
        "colab": {
          "base_uri": "https://localhost:8080/"
        },
        "id": "vszdRy7Ymvwj",
        "outputId": "faf6ab45-b1a5-4d6d-b50b-a3cf3f61c272"
      },
      "outputs": [
        {
          "output_type": "stream",
          "name": "stdout",
          "text": [
            "Total number of trainable parameters: 125058102\n"
          ]
        }
      ],
      "source": [
        "model = DeepZ()\n",
        "model = model.cuda()\n",
        "print(\"Total number of trainable parameters:\", count_parameters(model))"
      ]
    },
    {
      "cell_type": "code",
      "execution_count": 14,
      "metadata": {
        "id": "GSvBAEf1gSuv"
      },
      "outputs": [],
      "source": [
        "torch.cuda.empty_cache()"
      ]
    },
    {
      "cell_type": "code",
      "execution_count": 15,
      "metadata": {
        "colab": {
          "base_uri": "https://localhost:8080/",
          "height": 927
        },
        "id": "1XZQbAiJmvwk",
        "outputId": "dbf45052-5f47-4e1c-ef07-12b509985d6b",
        "scrolled": false
      },
      "outputs": [
        {
          "output_type": "display_data",
          "data": {
            "text/plain": [
              "<Figure size 1440x288 with 1 Axes>"
            ],
            "image/png": "[encoded data removed]"
          },
          "metadata": {
            "needs_background": "light"
          }
        },
        {
          "output_type": "display_data",
          "data": {
            "text/plain": [
              "<Figure size 1440x288 with 1 Axes>"
            ],
            "image/png": "[encoded data removed]"
          },
          "metadata": {
            "needs_background": "light"
          }
        },
        {
          "output_type": "display_data",
          "data": {
            "text/plain": [
              "<Figure size 1440x288 with 1 Axes>"
            ],
            "image/png": "[encoded data removed]"
          },
          "metadata": {
            "needs_background": "light"
          }
        },
        {
          "output_type": "display_data",
          "data": {
            "text/plain": [
              "<Figure size 1440x288 with 1 Axes>"
            ],
            "image/png": "[encoded data removed]"
          },
          "metadata": {
            "needs_background": "light"
          }
        },
        {
          "output_type": "stream",
          "name": "stdout",
          "text": [
            "Epoch 20 AUC = 30.33%\n",
            "Epoch 20 accuracy = 2.05%\n",
            "0.99133694\n",
            "Final AUC: 0.3\n"
          ]
        }
      ],
      "source": [
        "opt = torch.optim.RMSprop(model.parameters(), lr=10**-4, weight_decay=10**-4)\n",
        "train(model, opt, 20)"
      ]
    },
    {
      "cell_type": "code",
      "source": [
        "#torch.save(model.state_dict(), 'go1.pt')"
      ],
      "metadata": {
        "id": "g82iaFFmkFfY"
      },
      "execution_count": 17,
      "outputs": []
    },
    {
      "cell_type": "code",
      "source": [
        "model.load_state_dict(torch.load( 'go1.pt'))"
      ],
      "metadata": {
        "colab": {
          "base_uri": "https://localhost:8080/"
        },
        "id": "MNBWHLIDyxBt",
        "outputId": "680c74c9-4370-4e35-a711-7dab02731983"
      },
      "execution_count": 33,
      "outputs": [
        {
          "output_type": "execute_result",
          "data": {
            "text/plain": [
              "<All keys matched successfully>"
            ]
          },
          "metadata": {},
          "execution_count": 33
        }
      ]
    },
    {
      "cell_type": "code",
      "source": [
        "for _, (X_batch, y_batch) in enumerate(tqdm.tqdm(loader_train)):\n",
        "        x = X_batch.cuda()\n",
        "        break\n",
        "x = x[0].reshape((1, 5000, 1058))"
      ],
      "metadata": {
        "colab": {
          "base_uri": "https://localhost:8080/"
        },
        "id": "H5PpfbEChb75",
        "outputId": "76355f52-f456-462d-e2b6-c98d05c1bf41"
      },
      "execution_count": 16,
      "outputs": [
        {
          "output_type": "stream",
          "name": "stderr",
          "text": [
            "  0%|          | 0/54 [00:02<?, ?it/s]\n"
          ]
        }
      ]
    },
    {
      "cell_type": "code",
      "execution_count": 17,
      "metadata": {
        "id": "zCEsIEIsjB7M"
      },
      "outputs": [],
      "source": [
        "from src.lrp import LRPModel\n",
        "lrp_model = LRPModel(model)"
      ]
    },
    {
      "cell_type": "code",
      "source": [
        "%load_ext autoreload\n",
        "%reload_ext autoreload"
      ],
      "metadata": {
        "id": "KSf0F5huyqCI"
      },
      "execution_count": null,
      "outputs": []
    },
    {
      "cell_type": "code",
      "source": [
        "activations = list()\n",
        "with torch.no_grad():\n",
        "            # Replace image with ones avoids using image information for relevance computation.\n",
        "            activations.append(torch.ones_like(x))\n",
        "            #x1 = x.reshape((1, 1, 5000, 1058))\n",
        "            #x1 = model.cnn1(x1)\n",
        "            #activations.append(x1)\n",
        "            #print(x.shape)\n",
        "            x1 = x.reshape((1, 5000, 1058, 1))\n",
        "            x1 = model.cnn2(x1)\n",
        "            print(x1.shape)\n",
        "            activations.append(x1)\n",
        "            x1 = x1.reshape((1, 5000, 528, 1))\n",
        "            for layer in model.seq1:\n",
        "                x1 = layer.forward(x1)\n",
        "                activations.append(x1)\n",
        "            x1 = x1.reshape((1, 5000, 528))\n",
        "            activations[-1] = activations[-1].reshape((1, 5000, 528))\n",
        "            for layer in model.seq2:\n",
        "                x1 = layer.forward(x1)\n",
        "                activations.append(x1)\n",
        "        # Reverse order of activations to run backwards through model\n",
        "            activations = activations[::-1]\n",
        "            activations[-1] = activations[-1].reshape((1, 5000, 1058, 1))\n",
        "            activations = [a.data.requires_grad_(True) for a in activations]"
      ],
      "metadata": {
        "id": "mGJ-pUELMO9d",
        "colab": {
          "base_uri": "https://localhost:8080/"
        },
        "outputId": "ad97c241-a2e5-4607-9947-f13ca17dd3c6"
      },
      "execution_count": 18,
      "outputs": [
        {
          "output_type": "stream",
          "name": "stdout",
          "text": [
            "torch.Size([1, 5000, 528, 1])\n"
          ]
        }
      ]
    },
    {
      "cell_type": "code",
      "source": [
        "for i in activations:\n",
        "  print(i.shape)"
      ],
      "metadata": {
        "colab": {
          "base_uri": "https://localhost:8080/"
        },
        "id": "NgENVhyegSDU",
        "outputId": "fc45f9b1-b353-416d-c2c0-f76361f6a2b0"
      },
      "execution_count": 19,
      "outputs": [
        {
          "output_type": "stream",
          "name": "stdout",
          "text": [
            "torch.Size([1, 5000, 2])\n",
            "torch.Size([1, 5000, 100])\n",
            "torch.Size([1, 5000, 100])\n",
            "torch.Size([1, 5000, 100])\n",
            "torch.Size([1, 5000, 528])\n",
            "torch.Size([1, 5000, 528, 1])\n",
            "torch.Size([1, 5000, 528, 1])\n",
            "torch.Size([1, 5000, 528, 1])\n",
            "torch.Size([1, 5000, 1058, 1])\n"
          ]
        }
      ]
    },
    {
      "cell_type": "code",
      "source": [
        "layers = torch.nn.ModuleList()\n",
        "layers.append(model.cnn2)\n",
        "for layer in model.seq1:\n",
        "    layers.append(layer)\n",
        "for layer in model.seq2:\n",
        "    layers.append(layer)\n",
        "layers = layers[::-1]"
      ],
      "metadata": {
        "id": "IsK5HCvvuK5I"
      },
      "execution_count": 20,
      "outputs": []
    },
    {
      "cell_type": "code",
      "source": [
        "relevance = torch.softmax(activations.pop(0), dim=-1)  # Unsupervised\n",
        "\n",
        "        # Perform relevance propagation\n",
        "for i, layer in enumerate(lrp_model.lrp_layers):\n",
        "    print('*' * 100)\n",
        "    print('Activation:')\n",
        "    print(activations[0].shape)\n",
        "    print('Relevance:')\n",
        "    print(relevance.shape)\n",
        "    print(\"Layer:\")\n",
        "    print(layer)\n",
        "    print(layers[i].forward(activations[0]).shape)\n",
        "    print('*' * 100)\n",
        "    relevance = layer.forward(activations.pop(0), relevance)"
      ],
      "metadata": {
        "colab": {
          "base_uri": "https://localhost:8080/"
        },
        "id": "Z6RrHP4vMeAC",
        "outputId": "448a66a3-2200-4918-ea89-708b3e097561"
      },
      "execution_count": 21,
      "outputs": [
        {
          "output_type": "stream",
          "name": "stdout",
          "text": [
            "****************************************************************************************************\n",
            "Activation:\n",
            "torch.Size([1, 5000, 100])\n",
            "Relevance:\n",
            "torch.Size([1, 5000, 2])\n",
            "Layer:\n",
            "RelevancePropagationLinear(\n",
            "  (layer): Linear(in_features=100, out_features=2, bias=True)\n",
            ")\n",
            "torch.Size([1, 5000, 2])\n",
            "****************************************************************************************************\n",
            "****************************************************************************************************\n",
            "Activation:\n",
            "torch.Size([1, 5000, 100])\n",
            "Relevance:\n",
            "torch.Size([5000, 100])\n",
            "Layer:\n",
            "RelevancePropagationDropout()\n",
            "torch.Size([1, 5000, 100])\n",
            "****************************************************************************************************\n",
            "****************************************************************************************************\n",
            "Activation:\n",
            "torch.Size([1, 5000, 100])\n",
            "Relevance:\n",
            "torch.Size([5000, 100])\n",
            "Layer:\n",
            "RelevancePropagationReLU()\n",
            "torch.Size([1, 5000, 100])\n",
            "****************************************************************************************************\n",
            "****************************************************************************************************\n",
            "Activation:\n",
            "torch.Size([1, 5000, 528])\n",
            "Relevance:\n",
            "torch.Size([5000, 100])\n",
            "Layer:\n",
            "RelevancePropagationLinear(\n",
            "  (layer): Linear(in_features=528, out_features=100, bias=True)\n",
            ")\n",
            "torch.Size([1, 5000, 100])\n",
            "****************************************************************************************************\n",
            "****************************************************************************************************\n",
            "Activation:\n",
            "torch.Size([1, 5000, 528, 1])\n",
            "Relevance:\n",
            "torch.Size([5000, 528])\n",
            "Layer:\n",
            "RelevancePropagationDropout()\n",
            "torch.Size([1, 5000, 528, 1])\n",
            "****************************************************************************************************\n",
            "****************************************************************************************************\n",
            "Activation:\n",
            "torch.Size([1, 5000, 528, 1])\n",
            "Relevance:\n",
            "torch.Size([5000, 528])\n",
            "Layer:\n",
            "RelevancePropagationMaxPool2d(\n",
            "  (layer): MaxPool2d(kernel_size=(3, 1), stride=1, padding=(1, 0), dilation=1, ceil_mode=False)\n",
            ")\n",
            "torch.Size([1, 5000, 528, 1])\n",
            "****************************************************************************************************\n",
            "****************************************************************************************************\n",
            "Activation:\n",
            "torch.Size([1, 5000, 528, 1])\n",
            "Relevance:\n",
            "torch.Size([1, 5000, 528, 1])\n",
            "Layer:\n",
            "RelevancePropagationReLU()\n",
            "torch.Size([1, 5000, 528, 1])\n",
            "****************************************************************************************************\n",
            "****************************************************************************************************\n",
            "Activation:\n",
            "torch.Size([1, 5000, 1058, 1])\n",
            "Relevance:\n",
            "torch.Size([1, 5000, 528, 1])\n",
            "Layer:\n",
            "RelevancePropagationConv2d(\n",
            "  (layer): Conv2d(5000, 5000, kernel_size=(5, 1), stride=(2, 1), padding=(1, 0))\n",
            ")\n",
            "torch.Size([1, 5000, 528, 1])\n",
            "****************************************************************************************************\n"
          ]
        }
      ]
    },
    {
      "cell_type": "code",
      "source": [
        "answ = relevance.reshape((5000, 1058))"
      ],
      "metadata": {
        "id": "zuerOXq7Hfyy"
      },
      "execution_count": 22,
      "outputs": []
    },
    {
      "cell_type": "code",
      "source": [
        "x_answ = x.reshape((1, 5000, 1058))"
      ],
      "metadata": {
        "id": "f023cmnKISlo"
      },
      "execution_count": 23,
      "outputs": []
    },
    {
      "cell_type": "code",
      "source": [
        "x_answ[0].shape"
      ],
      "metadata": {
        "colab": {
          "base_uri": "https://localhost:8080/"
        },
        "id": "DD5UZ7QoJVKe",
        "outputId": "28cb6934-1cf8-439d-f576-bd82cdc679c8"
      },
      "execution_count": 24,
      "outputs": [
        {
          "output_type": "execute_result",
          "data": {
            "text/plain": [
              "torch.Size([5000, 1058])"
            ]
          },
          "metadata": {},
          "execution_count": 24
        }
      ]
    },
    {
      "cell_type": "code",
      "source": [
        "r = lrp_model.forward(x)"
      ],
      "metadata": {
        "id": "s9sklL6uiV0X"
      },
      "execution_count": 25,
      "outputs": []
    },
    {
      "cell_type": "code",
      "execution_count": 26,
      "metadata": {
        "id": "bIzRrhkqmvwl",
        "colab": {
          "base_uri": "https://localhost:8080/",
          "height": 304
        },
        "outputId": "b78217f7-f229-4427-a27b-e0c4aaf69b43"
      },
      "outputs": [
        {
          "output_type": "execute_result",
          "data": {
            "text/plain": [
              "<matplotlib.axes._subplots.AxesSubplot at 0x7f6263f6fd90>"
            ]
          },
          "metadata": {},
          "execution_count": 26
        },
        {
          "output_type": "display_data",
          "data": {
            "text/plain": [
              "<Figure size 432x288 with 2 Axes>"
            ],
            "image/png": "[encoded data removed]"
          },
          "metadata": {
            "needs_background": "light"
          }
        }
      ],
      "source": [
        "import seaborn as sns\n",
        "sns.heatmap(answ.cpu())"
      ]
    },
    {
      "cell_type": "code",
      "execution_count": null,
      "metadata": {
        "id": "D2xS9iLOmvwl"
      },
      "outputs": [],
      "source": []
    },
    {
      "cell_type": "code",
      "execution_count": null,
      "metadata": {
        "id": "inRO3D7dmvwl"
      },
      "outputs": [],
      "source": []
    },
    {
      "cell_type": "code",
      "execution_count": null,
      "metadata": {
        "id": "8UbdZAbymvwm"
      },
      "outputs": [],
      "source": []
    },
    {
      "cell_type": "code",
      "execution_count": null,
      "metadata": {
        "id": "2cGjZ5tRmvwm"
      },
      "outputs": [],
      "source": []
    }
  ],
  "metadata": {
    "accelerator": "GPU",
    "colab": {
      "collapsed_sections": [],
      "provenance": []
    },
    "gpuClass": "standard",
    "kernelspec": {
      "display_name": "Python 3 (ipykernel)",
      "language": "python",
      "name": "python3"
    },
    "language_info": {
      "codemirror_mode": {
        "name": "ipython",
        "version": 3
      },
      "file_extension": ".py",
      "mimetype": "text/x-python",
      "name": "python",
      "nbconvert_exporter": "python",
      "pygments_lexer": "ipython3",
      "version": "3.9.7"
    },
    "varInspector": {
      "cols": {
        "lenName": 16,
        "lenType": 16,
        "lenVar": 40
      },
      "kernels_config": {
        "python": {
          "delete_cmd_postfix": "",
          "delete_cmd_prefix": "del ",
          "library": "var_list.py",
          "varRefreshCmd": "print(var_dic_list())"
        },
        "r": {
          "delete_cmd_postfix": ") ",
          "delete_cmd_prefix": "rm(",
          "library": "var_list.r",
          "varRefreshCmd": "cat(var_dic_list()) "
        }
      },
      "types_to_exclude": [
        "module",
        "function",
        "builtin_function_or_method",
        "instance",
        "_Feature"
      ],
      "window_display": false
    },
    "widgets": {
      "application/vnd.jupyter.widget-state+json": {
        "430d9fac8a03456dbb4bfb418cf9c444": {
          "model_module": "@jupyter-widgets/controls",
          "model_name": "HBoxModel",
          "model_module_version": "1.5.0",
          "state": {
            "_dom_classes": [],
            "_model_module": "@jupyter-widgets/controls",
            "_model_module_version": "1.5.0",
            "_model_name": "HBoxModel",
            "_view_count": null,
            "_view_module": "@jupyter-widgets/controls",
            "_view_module_version": "1.5.0",
            "_view_name": "HBoxView",
            "box_style": "",
            "children": [
              "IPY_MODEL_1d8d78db524342ca917d53454e225e35",
              "IPY_MODEL_11f0244f85d8402a9f72ce051a298dd8",
              "IPY_MODEL_86100d3540894aadb7d3c344db58fdba"
            ],
            "layout": "IPY_MODEL_8345f45a5a804187bb6fdfe1951e4b47"
          }
        },
        "1d8d78db524342ca917d53454e225e35": {
          "model_module": "@jupyter-widgets/controls",
          "model_name": "HTMLModel",
          "model_module_version": "1.5.0",
          "state": {
            "_dom_classes": [],
            "_model_module": "@jupyter-widgets/controls",
            "_model_module_version": "1.5.0",
            "_model_name": "HTMLModel",
            "_view_count": null,
            "_view_module": "@jupyter-widgets/controls",
            "_view_module_version": "1.5.0",
            "_view_name": "HTMLView",
            "description": "",
            "description_tooltip": null,
            "layout": "IPY_MODEL_1a55799f0d314c528be0366990a7a40e",
            "placeholder": "​",
            "style": "IPY_MODEL_8ad74572ffcb42b5b42df7c372e2d4e9",
            "value": "100%"
          }
        },
        "11f0244f85d8402a9f72ce051a298dd8": {
          "model_module": "@jupyter-widgets/controls",
          "model_name": "FloatProgressModel",
          "model_module_version": "1.5.0",
          "state": {
            "_dom_classes": [],
            "_model_module": "@jupyter-widgets/controls",
            "_model_module_version": "1.5.0",
            "_model_name": "FloatProgressModel",
            "_view_count": null,
            "_view_module": "@jupyter-widgets/controls",
            "_view_module_version": "1.5.0",
            "_view_name": "ProgressView",
            "bar_style": "success",
            "description": "",
            "description_tooltip": null,
            "layout": "IPY_MODEL_21c0fe31cdad49f99f6bab8816587a5e",
            "max": 25,
            "min": 0,
            "orientation": "horizontal",
            "style": "IPY_MODEL_d7d993803cd24aaf8fd4ff1846d06eae",
            "value": 25
          }
        },
        "86100d3540894aadb7d3c344db58fdba": {
          "model_module": "@jupyter-widgets/controls",
          "model_name": "HTMLModel",
          "model_module_version": "1.5.0",
          "state": {
            "_dom_classes": [],
            "_model_module": "@jupyter-widgets/controls",
            "_model_module_version": "1.5.0",
            "_model_name": "HTMLModel",
            "_view_count": null,
            "_view_module": "@jupyter-widgets/controls",
            "_view_module_version": "1.5.0",
            "_view_name": "HTMLView",
            "description": "",
            "description_tooltip": null,
            "layout": "IPY_MODEL_f84621ae678f4cd1a2549e5224cc75be",
            "placeholder": "​",
            "style": "IPY_MODEL_bc7006057af64bf5be976fbebbdf0e97",
            "value": " 25/25 [00:19&lt;00:00,  2.19it/s]"
          }
        },
        "8345f45a5a804187bb6fdfe1951e4b47": {
          "model_module": "@jupyter-widgets/base",
          "model_name": "LayoutModel",
          "model_module_version": "1.2.0",
          "state": {
            "_model_module": "@jupyter-widgets/base",
            "_model_module_version": "1.2.0",
            "_model_name": "LayoutModel",
            "_view_count": null,
            "_view_module": "@jupyter-widgets/base",
            "_view_module_version": "1.2.0",
            "_view_name": "LayoutView",
            "align_content": null,
            "align_items": null,
            "align_self": null,
            "border": null,
            "bottom": null,
            "display": null,
            "flex": null,
            "flex_flow": null,
            "grid_area": null,
            "grid_auto_columns": null,
            "grid_auto_flow": null,
            "grid_auto_rows": null,
            "grid_column": null,
            "grid_gap": null,
            "grid_row": null,
            "grid_template_areas": null,
            "grid_template_columns": null,
            "grid_template_rows": null,
            "height": null,
            "justify_content": null,
            "justify_items": null,
            "left": null,
            "margin": null,
            "max_height": null,
            "max_width": null,
            "min_height": null,
            "min_width": null,
            "object_fit": null,
            "object_position": null,
            "order": null,
            "overflow": null,
            "overflow_x": null,
            "overflow_y": null,
            "padding": null,
            "right": null,
            "top": null,
            "visibility": null,
            "width": null
          }
        },
        "1a55799f0d314c528be0366990a7a40e": {
          "model_module": "@jupyter-widgets/base",
          "model_name": "LayoutModel",
          "model_module_version": "1.2.0",
          "state": {
            "_model_module": "@jupyter-widgets/base",
            "_model_module_version": "1.2.0",
            "_model_name": "LayoutModel",
            "_view_count": null,
            "_view_module": "@jupyter-widgets/base",
            "_view_module_version": "1.2.0",
            "_view_name": "LayoutView",
            "align_content": null,
            "align_items": null,
            "align_self": null,
            "border": null,
            "bottom": null,
            "display": null,
            "flex": null,
            "flex_flow": null,
            "grid_area": null,
            "grid_auto_columns": null,
            "grid_auto_flow": null,
            "grid_auto_rows": null,
            "grid_column": null,
            "grid_gap": null,
            "grid_row": null,
            "grid_template_areas": null,
            "grid_template_columns": null,
            "grid_template_rows": null,
            "height": null,
            "justify_content": null,
            "justify_items": null,
            "left": null,
            "margin": null,
            "max_height": null,
            "max_width": null,
            "min_height": null,
            "min_width": null,
            "object_fit": null,
            "object_position": null,
            "order": null,
            "overflow": null,
            "overflow_x": null,
            "overflow_y": null,
            "padding": null,
            "right": null,
            "top": null,
            "visibility": null,
            "width": null
          }
        },
        "8ad74572ffcb42b5b42df7c372e2d4e9": {
          "model_module": "@jupyter-widgets/controls",
          "model_name": "DescriptionStyleModel",
          "model_module_version": "1.5.0",
          "state": {
            "_model_module": "@jupyter-widgets/controls",
            "_model_module_version": "1.5.0",
            "_model_name": "DescriptionStyleModel",
            "_view_count": null,
            "_view_module": "@jupyter-widgets/base",
            "_view_module_version": "1.2.0",
            "_view_name": "StyleView",
            "description_width": ""
          }
        },
        "21c0fe31cdad49f99f6bab8816587a5e": {
          "model_module": "@jupyter-widgets/base",
          "model_name": "LayoutModel",
          "model_module_version": "1.2.0",
          "state": {
            "_model_module": "@jupyter-widgets/base",
            "_model_module_version": "1.2.0",
            "_model_name": "LayoutModel",
            "_view_count": null,
            "_view_module": "@jupyter-widgets/base",
            "_view_module_version": "1.2.0",
            "_view_name": "LayoutView",
            "align_content": null,
            "align_items": null,
            "align_self": null,
            "border": null,
            "bottom": null,
            "display": null,
            "flex": null,
            "flex_flow": null,
            "grid_area": null,
            "grid_auto_columns": null,
            "grid_auto_flow": null,
            "grid_auto_rows": null,
            "grid_column": null,
            "grid_gap": null,
            "grid_row": null,
            "grid_template_areas": null,
            "grid_template_columns": null,
            "grid_template_rows": null,
            "height": null,
            "justify_content": null,
            "justify_items": null,
            "left": null,
            "margin": null,
            "max_height": null,
            "max_width": null,
            "min_height": null,
            "min_width": null,
            "object_fit": null,
            "object_position": null,
            "order": null,
            "overflow": null,
            "overflow_x": null,
            "overflow_y": null,
            "padding": null,
            "right": null,
            "top": null,
            "visibility": null,
            "width": null
          }
        },
        "d7d993803cd24aaf8fd4ff1846d06eae": {
          "model_module": "@jupyter-widgets/controls",
          "model_name": "ProgressStyleModel",
          "model_module_version": "1.5.0",
          "state": {
            "_model_module": "@jupyter-widgets/controls",
            "_model_module_version": "1.5.0",
            "_model_name": "ProgressStyleModel",
            "_view_count": null,
            "_view_module": "@jupyter-widgets/base",
            "_view_module_version": "1.2.0",
            "_view_name": "StyleView",
            "bar_color": null,
            "description_width": ""
          }
        },
        "f84621ae678f4cd1a2549e5224cc75be": {
          "model_module": "@jupyter-widgets/base",
          "model_name": "LayoutModel",
          "model_module_version": "1.2.0",
          "state": {
            "_model_module": "@jupyter-widgets/base",
            "_model_module_version": "1.2.0",
            "_model_name": "LayoutModel",
            "_view_count": null,
            "_view_module": "@jupyter-widgets/base",
            "_view_module_version": "1.2.0",
            "_view_name": "LayoutView",
            "align_content": null,
            "align_items": null,
            "align_self": null,
            "border": null,
            "bottom": null,
            "display": null,
            "flex": null,
            "flex_flow": null,
            "grid_area": null,
            "grid_auto_columns": null,
            "grid_auto_flow": null,
            "grid_auto_rows": null,
            "grid_column": null,
            "grid_gap": null,
            "grid_row": null,
            "grid_template_areas": null,
            "grid_template_columns": null,
            "grid_template_rows": null,
            "height": null,
            "justify_content": null,
            "justify_items": null,
            "left": null,
            "margin": null,
            "max_height": null,
            "max_width": null,
            "min_height": null,
            "min_width": null,
            "object_fit": null,
            "object_position": null,
            "order": null,
            "overflow": null,
            "overflow_x": null,
            "overflow_y": null,
            "padding": null,
            "right": null,
            "top": null,
            "visibility": null,
            "width": null
          }
        },
        "bc7006057af64bf5be976fbebbdf0e97": {
          "model_module": "@jupyter-widgets/controls",
          "model_name": "DescriptionStyleModel",
          "model_module_version": "1.5.0",
          "state": {
            "_model_module": "@jupyter-widgets/controls",
            "_model_module_version": "1.5.0",
            "_model_name": "DescriptionStyleModel",
            "_view_count": null,
            "_view_module": "@jupyter-widgets/base",
            "_view_module_version": "1.2.0",
            "_view_name": "StyleView",
            "description_width": ""
          }
        },
        "555633646bc44332b6deb7ba278772b3": {
          "model_module": "@jupyter-widgets/controls",
          "model_name": "HBoxModel",
          "model_module_version": "1.5.0",
          "state": {
            "_dom_classes": [],
            "_model_module": "@jupyter-widgets/controls",
            "_model_module_version": "1.5.0",
            "_model_name": "HBoxModel",
            "_view_count": null,
            "_view_module": "@jupyter-widgets/controls",
            "_view_module_version": "1.5.0",
            "_view_name": "HBoxView",
            "box_style": "",
            "children": [
              "IPY_MODEL_be58e301ce23409cb3c5a657954bc019",
              "IPY_MODEL_2e6c095445344e469e4fcbc44ca749be",
              "IPY_MODEL_7f492de0ed924721bbd1714ab530e2f1"
            ],
            "layout": "IPY_MODEL_48349b567c2847259156e4b7058d5744"
          }
        },
        "be58e301ce23409cb3c5a657954bc019": {
          "model_module": "@jupyter-widgets/controls",
          "model_name": "HTMLModel",
          "model_module_version": "1.5.0",
          "state": {
            "_dom_classes": [],
            "_model_module": "@jupyter-widgets/controls",
            "_model_module_version": "1.5.0",
            "_model_name": "HTMLModel",
            "_view_count": null,
            "_view_module": "@jupyter-widgets/controls",
            "_view_module_version": "1.5.0",
            "_view_name": "HTMLView",
            "description": "",
            "description_tooltip": null,
            "layout": "IPY_MODEL_a642207a30b745859f6b4ac021074a68",
            "placeholder": "​",
            "style": "IPY_MODEL_5657618f020a47eaa9ba7d29f738c6fa",
            "value": "100%"
          }
        },
        "2e6c095445344e469e4fcbc44ca749be": {
          "model_module": "@jupyter-widgets/controls",
          "model_name": "FloatProgressModel",
          "model_module_version": "1.5.0",
          "state": {
            "_dom_classes": [],
            "_model_module": "@jupyter-widgets/controls",
            "_model_module_version": "1.5.0",
            "_model_name": "FloatProgressModel",
            "_view_count": null,
            "_view_module": "@jupyter-widgets/controls",
            "_view_module_version": "1.5.0",
            "_view_name": "ProgressView",
            "bar_style": "success",
            "description": "",
            "description_tooltip": null,
            "layout": "IPY_MODEL_780ccb1dd02a4c8a907ac41ab3e52d25",
            "max": 1054,
            "min": 0,
            "orientation": "horizontal",
            "style": "IPY_MODEL_565e519e51514ff4983d256ec1ac76d8",
            "value": 1054
          }
        },
        "7f492de0ed924721bbd1714ab530e2f1": {
          "model_module": "@jupyter-widgets/controls",
          "model_name": "HTMLModel",
          "model_module_version": "1.5.0",
          "state": {
            "_dom_classes": [],
            "_model_module": "@jupyter-widgets/controls",
            "_model_module_version": "1.5.0",
            "_model_name": "HTMLModel",
            "_view_count": null,
            "_view_module": "@jupyter-widgets/controls",
            "_view_module_version": "1.5.0",
            "_view_name": "HTMLView",
            "description": "",
            "description_tooltip": null,
            "layout": "IPY_MODEL_4a4a0fde3c244f5fb6ef7b02e635ad65",
            "placeholder": "​",
            "style": "IPY_MODEL_cc76a288a741414594b2c0515fff397a",
            "value": " 1054/1054 [00:16&lt;00:00, 70.81it/s]"
          }
        },
        "48349b567c2847259156e4b7058d5744": {
          "model_module": "@jupyter-widgets/base",
          "model_name": "LayoutModel",
          "model_module_version": "1.2.0",
          "state": {
            "_model_module": "@jupyter-widgets/base",
            "_model_module_version": "1.2.0",
            "_model_name": "LayoutModel",
            "_view_count": null,
            "_view_module": "@jupyter-widgets/base",
            "_view_module_version": "1.2.0",
            "_view_name": "LayoutView",
            "align_content": null,
            "align_items": null,
            "align_self": null,
            "border": null,
            "bottom": null,
            "display": null,
            "flex": null,
            "flex_flow": null,
            "grid_area": null,
            "grid_auto_columns": null,
            "grid_auto_flow": null,
            "grid_auto_rows": null,
            "grid_column": null,
            "grid_gap": null,
            "grid_row": null,
            "grid_template_areas": null,
            "grid_template_columns": null,
            "grid_template_rows": null,
            "height": null,
            "justify_content": null,
            "justify_items": null,
            "left": null,
            "margin": null,
            "max_height": null,
            "max_width": null,
            "min_height": null,
            "min_width": null,
            "object_fit": null,
            "object_position": null,
            "order": null,
            "overflow": null,
            "overflow_x": null,
            "overflow_y": null,
            "padding": null,
            "right": null,
            "top": null,
            "visibility": null,
            "width": null
          }
        },
        "a642207a30b745859f6b4ac021074a68": {
          "model_module": "@jupyter-widgets/base",
          "model_name": "LayoutModel",
          "model_module_version": "1.2.0",
          "state": {
            "_model_module": "@jupyter-widgets/base",
            "_model_module_version": "1.2.0",
            "_model_name": "LayoutModel",
            "_view_count": null,
            "_view_module": "@jupyter-widgets/base",
            "_view_module_version": "1.2.0",
            "_view_name": "LayoutView",
            "align_content": null,
            "align_items": null,
            "align_self": null,
            "border": null,
            "bottom": null,
            "display": null,
            "flex": null,
            "flex_flow": null,
            "grid_area": null,
            "grid_auto_columns": null,
            "grid_auto_flow": null,
            "grid_auto_rows": null,
            "grid_column": null,
            "grid_gap": null,
            "grid_row": null,
            "grid_template_areas": null,
            "grid_template_columns": null,
            "grid_template_rows": null,
            "height": null,
            "justify_content": null,
            "justify_items": null,
            "left": null,
            "margin": null,
            "max_height": null,
            "max_width": null,
            "min_height": null,
            "min_width": null,
            "object_fit": null,
            "object_position": null,
            "order": null,
            "overflow": null,
            "overflow_x": null,
            "overflow_y": null,
            "padding": null,
            "right": null,
            "top": null,
            "visibility": null,
            "width": null
          }
        },
        "5657618f020a47eaa9ba7d29f738c6fa": {
          "model_module": "@jupyter-widgets/controls",
          "model_name": "DescriptionStyleModel",
          "model_module_version": "1.5.0",
          "state": {
            "_model_module": "@jupyter-widgets/controls",
            "_model_module_version": "1.5.0",
            "_model_name": "DescriptionStyleModel",
            "_view_count": null,
            "_view_module": "@jupyter-widgets/base",
            "_view_module_version": "1.2.0",
            "_view_name": "StyleView",
            "description_width": ""
          }
        },
        "780ccb1dd02a4c8a907ac41ab3e52d25": {
          "model_module": "@jupyter-widgets/base",
          "model_name": "LayoutModel",
          "model_module_version": "1.2.0",
          "state": {
            "_model_module": "@jupyter-widgets/base",
            "_model_module_version": "1.2.0",
            "_model_name": "LayoutModel",
            "_view_count": null,
            "_view_module": "@jupyter-widgets/base",
            "_view_module_version": "1.2.0",
            "_view_name": "LayoutView",
            "align_content": null,
            "align_items": null,
            "align_self": null,
            "border": null,
            "bottom": null,
            "display": null,
            "flex": null,
            "flex_flow": null,
            "grid_area": null,
            "grid_auto_columns": null,
            "grid_auto_flow": null,
            "grid_auto_rows": null,
            "grid_column": null,
            "grid_gap": null,
            "grid_row": null,
            "grid_template_areas": null,
            "grid_template_columns": null,
            "grid_template_rows": null,
            "height": null,
            "justify_content": null,
            "justify_items": null,
            "left": null,
            "margin": null,
            "max_height": null,
            "max_width": null,
            "min_height": null,
            "min_width": null,
            "object_fit": null,
            "object_position": null,
            "order": null,
            "overflow": null,
            "overflow_x": null,
            "overflow_y": null,
            "padding": null,
            "right": null,
            "top": null,
            "visibility": null,
            "width": null
          }
        },
        "565e519e51514ff4983d256ec1ac76d8": {
          "model_module": "@jupyter-widgets/controls",
          "model_name": "ProgressStyleModel",
          "model_module_version": "1.5.0",
          "state": {
            "_model_module": "@jupyter-widgets/controls",
            "_model_module_version": "1.5.0",
            "_model_name": "ProgressStyleModel",
            "_view_count": null,
            "_view_module": "@jupyter-widgets/base",
            "_view_module_version": "1.2.0",
            "_view_name": "StyleView",
            "bar_color": null,
            "description_width": ""
          }
        },
        "4a4a0fde3c244f5fb6ef7b02e635ad65": {
          "model_module": "@jupyter-widgets/base",
          "model_name": "LayoutModel",
          "model_module_version": "1.2.0",
          "state": {
            "_model_module": "@jupyter-widgets/base",
            "_model_module_version": "1.2.0",
            "_model_name": "LayoutModel",
            "_view_count": null,
            "_view_module": "@jupyter-widgets/base",
            "_view_module_version": "1.2.0",
            "_view_name": "LayoutView",
            "align_content": null,
            "align_items": null,
            "align_self": null,
            "border": null,
            "bottom": null,
            "display": null,
            "flex": null,
            "flex_flow": null,
            "grid_area": null,
            "grid_auto_columns": null,
            "grid_auto_flow": null,
            "grid_auto_rows": null,
            "grid_column": null,
            "grid_gap": null,
            "grid_row": null,
            "grid_template_areas": null,
            "grid_template_columns": null,
            "grid_template_rows": null,
            "height": null,
            "justify_content": null,
            "justify_items": null,
            "left": null,
            "margin": null,
            "max_height": null,
            "max_width": null,
            "min_height": null,
            "min_width": null,
            "object_fit": null,
            "object_position": null,
            "order": null,
            "overflow": null,
            "overflow_x": null,
            "overflow_y": null,
            "padding": null,
            "right": null,
            "top": null,
            "visibility": null,
            "width": null
          }
        },
        "cc76a288a741414594b2c0515fff397a": {
          "model_module": "@jupyter-widgets/controls",
          "model_name": "DescriptionStyleModel",
          "model_module_version": "1.5.0",
          "state": {
            "_model_module": "@jupyter-widgets/controls",
            "_model_module_version": "1.5.0",
            "_model_name": "DescriptionStyleModel",
            "_view_count": null,
            "_view_module": "@jupyter-widgets/base",
            "_view_module_version": "1.2.0",
            "_view_name": "StyleView",
            "description_width": ""
          }
        }
      }
    }
  },
  "nbformat": 4,
  "nbformat_minor": 0
}